{
 "cells": [
  {
   "cell_type": "markdown",
   "metadata": {},
   "source": [
    "## Run Harmonic Regression on Tesseract"
   ]
  },
  {
   "cell_type": "code",
   "execution_count": 1,
   "metadata": {},
   "outputs": [
    {
     "name": "stderr",
     "output_type": "stream",
     "text": [
      "/home/rob/miniconda3/envs/har-reg/lib/python3.8/site-packages/geodesic/utils/downloader.py:36: UserWarning: google.cloud.storage is installed, but GOOGLE_APPLICATION_CREDENTIALS is not set\n",
      "  warnings.warn(\n"
     ]
    }
   ],
   "source": [
    "import geodesic\n",
    "import geodesic.tesseract as T\n",
    "import numpy as np\n",
    "from datetime import datetime"
   ]
  },
  {
   "cell_type": "code",
   "execution_count": 2,
   "metadata": {},
   "outputs": [],
   "source": [
    "proj = geodesic.set_active_project(\"har-reg\")"
   ]
  },
  {
   "cell_type": "code",
   "execution_count": 3,
   "metadata": {},
   "outputs": [
    {
     "name": "stdout",
     "output_type": "stream",
     "text": [
      "dataset:earth-bservation:satellite:electro-optical:landsat-8\n"
     ]
    }
   ],
   "source": [
    "landsat = geodesic.get_dataset(\"landsat-8\")\n",
    "print(landsat)"
   ]
  },
  {
   "cell_type": "code",
   "execution_count": 4,
   "metadata": {},
   "outputs": [
    {
     "data": {
      "text/plain": [
       "datetime.datetime(2023, 10, 18, 14, 6, 6, 659377)"
      ]
     },
     "execution_count": 4,
     "metadata": {},
     "output_type": "execute_result"
    }
   ],
   "source": [
    "bbox = (-94.691162,44.414164,-94.218750,44.676466) # Southern Minnesota\n",
    "end_date = datetime.now()\n",
    "end_date"
   ]
  },
  {
   "cell_type": "code",
   "execution_count": 5,
   "metadata": {},
   "outputs": [],
   "source": [
    "job = T.Job(\n",
    "    name=\"har-reg-demo\",\n",
    "    alias=\"Harmonic Regression Demo\",\n",
    "    description=\"Demo of harmonic regression model\",\n",
    "    project=proj,\n",
    "    bbox=bbox,\n",
    "    bbox_epsg=4326,\n",
    "    output_epsg=3857,\n",
    ")"
   ]
  },
  {
   "cell_type": "code",
   "execution_count": 6,
   "metadata": {},
   "outputs": [],
   "source": [
    "job.add_create_assets_step(\n",
    "    name=\"add-landsat\",\n",
    "    asset_name=\"landsat\",\n",
    "    dataset=\"landsat-8\",\n",
    "    dataset_project=proj,\n",
    "    asset_bands=[\n",
    "        {\"asset\": \"SR_B2\", \"bands\": [0]},\n",
    "        {\"asset\": \"SR_B3\", \"bands\": [0]},\n",
    "        {\"asset\": \"SR_B4\", \"bands\": [0]},\n",
    "        {\"asset\": \"SR_B5\", \"bands\": [0]},\n",
    "        {\"asset\": \"SR_B6\", \"bands\": [0]},\n",
    "        {\"asset\": \"SR_B7\", \"bands\": [0]},\n",
    "    ],\n",
    "    output_time_bins=dict(\n",
    "        strided=T.StridedBinning(\n",
    "            from_selection=T.BinSelection(datetime=end_date),\n",
    "            duration=\"8D\",\n",
    "            stride=\"8D\",\n",
    "            count=200\n",
    "        )\n",
    "    ),\n",
    "    output_bands=[\"blue\", \"green\", \"red\", \"nir\", \"swir1\", \"swir2\"],\n",
    "    chip_size=512,\n",
    "    pixel_dtype=np.uint16,\n",
    "    pixels_options=dict(\n",
    "        pixel_size=(30.0, 30.0),\n",
    "    ),\n",
    "    fill_value=\"nan\",\n",
    "    workers=5,\n",
    ");"
   ]
  },
  {
   "cell_type": "code",
   "execution_count": 7,
   "metadata": {},
   "outputs": [],
   "source": [
    "job.add_model_step(\n",
    "    name=\"run-har-reg\",\n",
    "    container=T.Container(\n",
    "        repository=\"us-central1-docker.pkg.dev/double-catfish-291717/seerai-docker/images/\",\n",
    "        image=\"har-reg\",\n",
    "        tag=\"v0.0.2\",\n",
    "        args={\"forder\": 4}\n",
    "    ),\n",
    "    inputs=[T.StepInput(\n",
    "        asset_name=\"landsat\",\n",
    "        dataset_project=proj,\n",
    "        spatial_chunk_shape=(512, 512),\n",
    "        type=\"tensor\",\n",
    "        time_bin_selection=T.BinSelection(all=True),\n",
    "    )],\n",
    "    outputs=[\n",
    "        T.StepOutput(\n",
    "            asset_name=\"brightness-params\",\n",
    "            chunk_shape=(1, 10, 256, 256),\n",
    "            type=\"tensor\",\n",
    "            pixel_dtype=\"<f2\",\n",
    "            fill_value=\"0.0\",\n",
    "        ),\n",
    "        T.StepOutput(\n",
    "            asset_name=\"greenness-params\",\n",
    "            chunk_shape=(1, 10, 256, 256),\n",
    "            type=\"tensor\",\n",
    "            pixel_dtype=\"<f2\",\n",
    "            fill_value=\"0.0\",\n",
    "        ),\n",
    "        T.StepOutput(\n",
    "            asset_name=\"wetness-params\",\n",
    "            chunk_shape=(1, 10, 256, 256),\n",
    "            type=\"tensor\",\n",
    "            pixel_dtype=\"<f2\",\n",
    "            fill_value=\"0.0\",\n",
    "        )\n",
    "    ],\n",
    "    workers=5\n",
    ");"
   ]
  },
  {
   "cell_type": "code",
   "execution_count": 8,
   "metadata": {},
   "outputs": [
    {
     "name": "stderr",
     "output_type": "stream",
     "text": [
      "/home/rob/miniconda3/envs/har-reg/lib/python3.8/site-packages/geodesic/descriptors.py:102: UserWarning: field global_properties is deprecated and will be removed in a future version\n",
      "  warnings.warn(\n"
     ]
    }
   ],
   "source": [
    "res = job.submit(dry_run=True)\n",
    "res"
   ]
  },
  {
   "cell_type": "code",
   "execution_count": null,
   "metadata": {},
   "outputs": [],
   "source": []
  }
 ],
 "metadata": {
  "kernelspec": {
   "display_name": "Python 3 (ipykernel)",
   "language": "python",
   "name": "python3"
  },
  "language_info": {
   "codemirror_mode": {
    "name": "ipython",
    "version": 3
   },
   "file_extension": ".py",
   "mimetype": "text/x-python",
   "name": "python",
   "nbconvert_exporter": "python",
   "pygments_lexer": "ipython3",
   "version": "3.8.18"
  }
 },
 "nbformat": 4,
 "nbformat_minor": 4
}
