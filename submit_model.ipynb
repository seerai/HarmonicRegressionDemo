{
 "cells": [
  {
   "cell_type": "markdown",
   "metadata": {},
   "source": [
    "## Run Harmonic Regression on Tesseract"
   ]
  },
  {
   "cell_type": "code",
   "execution_count": 8,
   "metadata": {},
   "outputs": [],
   "source": [
    "import geodesic\n",
    "import geodesic.tesseract as T\n",
    "import numpy as np"
   ]
  },
  {
   "cell_type": "code",
   "execution_count": 7,
   "metadata": {},
   "outputs": [],
   "source": [
    "proj = geodesic.set_active_project(\"har-reg\")"
   ]
  },
  {
   "cell_type": "code",
   "execution_count": 5,
   "metadata": {},
   "outputs": [
    {
     "name": "stdout",
     "output_type": "stream",
     "text": [
      "dataset:earth-bservation:satellite:electro-optical:landsat-8\n"
     ]
    }
   ],
   "source": [
    "landsat = geodesic.get_dataset(\"landsat-8\")\n",
    "print(landsat)"
   ]
  },
  {
   "cell_type": "code",
   "execution_count": 6,
   "metadata": {},
   "outputs": [],
   "source": [
    "bbox = (-94.691162,44.414164,-94.218750,44.676466) # Southern Minnesota"
   ]
  },
  {
   "cell_type": "code",
   "execution_count": null,
   "metadata": {},
   "outputs": [],
   "source": [
    "data_input_step = T.Step(\n",
    "    name=\"landsat\",\n",
    "    inputs=[\n",
    "        T.StepInput(\n",
    "            dataset=\"landsat-8\",\n",
    "            project=proj,\n",
    "            asset_bands=[\n",
    "                T.AssetBands(\n",
    "                    asset=\"SR_B2\",\n",
    "                    bands=[0]\n",
    "                ),\n",
    "                T.AssetBands(\n",
    "                    asset=\"SR_B3\",\n",
    "                    bands=[0]\n",
    "                ),\n",
    "                T.AssetBands(\n",
    "                    asset=\"SR_B4\",\n",
    "                    bands=[0]\n",
    "                ),\n",
    "                T.AssetBands(\n",
    "                    asset=\"SR_B5\",\n",
    "                    bands=[0]\n",
    "                ),\n",
    "                T.AssetBands(\n",
    "                    asset=\"SR_B6\",\n",
    "                    bands=[0]\n",
    "                ),\n",
    "                T.AssetBands(\n",
    "                    asset=\"SR_B7\",\n",
    "                    bands=[0]\n",
    "                ),\n",
    "            ]\n",
    "        )\n",
    "    ],\n",
    "    outputs=[\n",
    "        T.StepOutput(\n",
    "            asset_name=\"landsat\",\n",
    "            type=\"tensor\",\n",
    "            chip_size=128,\n",
    "            pixel_dtype=np.uint16,\n",
    "            output_time_bins=T.OutputTimeBins(\n",
    "                \n",
    "            )\n",
    "        )\n",
    "    ]\n",
    ")"
   ]
  }
 ],
 "metadata": {
  "kernelspec": {
   "display_name": "Python 3",
   "language": "python",
   "name": "python3"
  },
  "language_info": {
   "codemirror_mode": {
    "name": "ipython",
    "version": 3
   },
   "file_extension": ".py",
   "mimetype": "text/x-python",
   "name": "python",
   "nbconvert_exporter": "python",
   "pygments_lexer": "ipython3",
   "version": "3.8.18"
  }
 },
 "nbformat": 4,
 "nbformat_minor": 2
}
