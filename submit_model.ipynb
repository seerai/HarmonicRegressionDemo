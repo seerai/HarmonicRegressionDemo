{
 "cells": [
  {
   "cell_type": "markdown",
   "metadata": {},
   "source": [
    "## Run Harmonic Regression on Tesseract"
   ]
  },
  {
   "cell_type": "code",
   "execution_count": 1,
   "metadata": {},
   "outputs": [
    {
     "name": "stderr",
     "output_type": "stream",
     "text": [
      "/home/rob/miniconda3/envs/har-reg/lib/python3.8/site-packages/geodesic/utils/downloader.py:36: UserWarning: google.cloud.storage is installed, but GOOGLE_APPLICATION_CREDENTIALS is not set\n",
      "  warnings.warn(\n"
     ]
    }
   ],
   "source": [
    "import geodesic\n",
    "import geodesic.tesseract as T\n",
    "import numpy as np\n",
    "from datetime import datetime"
   ]
  },
  {
   "cell_type": "code",
   "execution_count": 2,
   "metadata": {},
   "outputs": [],
   "source": [
    "proj = geodesic.set_active_project(\"har-reg\")"
   ]
  },
  {
   "cell_type": "code",
   "execution_count": 3,
   "metadata": {},
   "outputs": [
    {
     "name": "stdout",
     "output_type": "stream",
     "text": [
      "dataset:earth-bservation:satellite:electro-optical:landsat-8\n"
     ]
    }
   ],
   "source": [
    "landsat = geodesic.get_dataset(\"landsat-8\")\n",
    "print(landsat)"
   ]
  },
  {
   "cell_type": "code",
   "execution_count": 4,
   "metadata": {},
   "outputs": [
    {
     "data": {
      "text/plain": [
       "datetime.datetime(2023, 10, 18, 17, 27, 57, 252117)"
      ]
     },
     "execution_count": 4,
     "metadata": {},
     "output_type": "execute_result"
    }
   ],
   "source": [
    "bbox = (-94.691162,44.414164,-94.218750,44.676466) # Southern Minnesota\n",
    "end_date = datetime.now()\n",
    "end_date"
   ]
  },
  {
   "cell_type": "code",
   "execution_count": 5,
   "metadata": {},
   "outputs": [],
   "source": [
    "job = T.Job(\n",
    "    name=\"har-reg-demo\",\n",
    "    alias=\"Harmonic Regression Demo\",\n",
    "    description=\"Demo of harmonic regression model\",\n",
    "    project=proj,\n",
    "    bbox=bbox,\n",
    "    bbox_epsg=4326,\n",
    "    output_epsg=3857,\n",
    ")"
   ]
  },
  {
   "cell_type": "code",
   "execution_count": 6,
   "metadata": {},
   "outputs": [],
   "source": [
    "job.add_create_assets_step(\n",
    "    name=\"add-landsat\",\n",
    "    asset_name=\"landsat\",\n",
    "    dataset=\"landsat-8\",\n",
    "    dataset_project=proj,\n",
    "    asset_bands=[\n",
    "        {\"asset\": \"SR_B2\", \"bands\": [0]},\n",
    "        {\"asset\": \"SR_B3\", \"bands\": [0]},\n",
    "        {\"asset\": \"SR_B4\", \"bands\": [0]},\n",
    "        {\"asset\": \"SR_B5\", \"bands\": [0]},\n",
    "        {\"asset\": \"SR_B6\", \"bands\": [0]},\n",
    "        {\"asset\": \"SR_B7\", \"bands\": [0]},\n",
    "    ],\n",
    "    output_time_bins=dict(\n",
    "        strided=T.StridedBinning(\n",
    "            from_selection=T.BinSelection(datetime=end_date),\n",
    "            duration=\"8D\",\n",
    "            stride=\"8D\",\n",
    "            count=10\n",
    "        )\n",
    "    ),\n",
    "    output_bands=[\"blue\", \"green\", \"red\", \"nir\", \"swir1\", \"swir2\"],\n",
    "    chip_size=512,\n",
    "    pixel_dtype=np.uint16,\n",
    "    pixels_options=dict(\n",
    "        pixel_size=(30.0, 30.0),\n",
    "    ),\n",
    "    fill_value=\"nan\",\n",
    "    workers=5,\n",
    ");"
   ]
  },
  {
   "cell_type": "code",
   "execution_count": 7,
   "metadata": {},
   "outputs": [],
   "source": [
    "job.add_model_step(\n",
    "    name=\"run-har-reg\",\n",
    "    container=T.Container(\n",
    "        repository=\"us-central1-docker.pkg.dev/double-catfish-291717/seerai-docker/images/\",\n",
    "        image=\"har-reg\",\n",
    "        tag=\"v0.0.5\",\n",
    "        args={\"forder\": 4}\n",
    "    ),\n",
    "    inputs=[T.StepInput(\n",
    "        asset_name=\"landsat\",\n",
    "        dataset_project=proj,\n",
    "        spatial_chunk_shape=(512, 512),\n",
    "        type=\"tensor\",\n",
    "        time_bin_selection=T.BinSelection(all=True),\n",
    "    )],\n",
    "    outputs=[\n",
    "        T.StepOutput(\n",
    "            asset_name=\"brightness-params\",\n",
    "            chunk_shape=(1, 10, 256, 256),\n",
    "            type=\"tensor\",\n",
    "            pixel_dtype=\"<f2\",\n",
    "            fill_value=\"0.0\",\n",
    "        ),\n",
    "        T.StepOutput(\n",
    "            asset_name=\"greenness-params\",\n",
    "            chunk_shape=(1, 10, 256, 256),\n",
    "            type=\"tensor\",\n",
    "            pixel_dtype=\"<f2\",\n",
    "            fill_value=\"0.0\",\n",
    "        ),\n",
    "        T.StepOutput(\n",
    "            asset_name=\"wetness-params\",\n",
    "            chunk_shape=(1, 10, 256, 256),\n",
    "            type=\"tensor\",\n",
    "            pixel_dtype=\"<f2\",\n",
    "            fill_value=\"0.0\",\n",
    "        )\n",
    "    ],\n",
    "    workers=1\n",
    ");"
   ]
  },
  {
   "cell_type": "code",
   "execution_count": 8,
   "metadata": {},
   "outputs": [
    {
     "name": "stderr",
     "output_type": "stream",
     "text": [
      "/home/rob/miniconda3/envs/har-reg/lib/python3.8/site-packages/geodesic/descriptors.py:102: UserWarning: field global_properties is deprecated and will be removed in a future version\n",
      "  warnings.warn(\n",
      "/home/rob/miniconda3/envs/har-reg/lib/python3.8/site-packages/geodesic/tesseract/components.py:767: UserWarning: Input Validation Warning (severity=WARN_LOW): resample not set on pixels options, defaulting to resample nearest (output 0 of step add-landsat)\n",
      "  warnings.warn(f\"{self.title} (severity={self.severity}): {self.detail}\")\n"
     ]
    },
    {
     "data": {
      "text/plain": [
       "{'job_id': '85dd5a9b111a3a058c89d7dd68b8138b08bd96a0',\n",
       " 'dataset': dataset:*:*:*:har-reg-demo,\n",
       " 'stac_item': {'type': 'Feature',\n",
       "  'id': '0',\n",
       "  'geometry': {'type': 'Polygon',\n",
       "   'coordinates': [[[-94.691162, 44.414164],\n",
       "     [-94.21875, 44.414164],\n",
       "     [-94.21875, 44.676466],\n",
       "     [-94.691162, 44.676466],\n",
       "     [-94.691162, 44.414164]]]},\n",
       "  'properties': {'proj:epsg': 3857},\n",
       "  'links': [{'href': 'https://api.geodesic.seerai.space/tesseract/api/v1/jobs/85dd5a9b111a3a058c89d7dd68b8138b08bd96a0/items/0',\n",
       "    'rel': 'self',\n",
       "    'type': 'application/json',\n",
       "    'title': 'item'},\n",
       "   {'href': 'https://api.geodesic.seerai.space/tesseract/api/v1/jobs/85dd5a9b111a3a058c89d7dd68b8138b08bd96a0/dataset',\n",
       "    'rel': 'collection',\n",
       "    'type': 'application/json',\n",
       "    'title': 'dataset'},\n",
       "   {'href': 'https://api.geodesic.seerai.space/tesseract/api/v1/jobs/85dd5a9b111a3a058c89d7dd68b8138b08bd96a0',\n",
       "    'rel': 'parent',\n",
       "    'type': 'application/json',\n",
       "    'title': 'job'}],\n",
       "  'extensions': ['proj'],\n",
       "  'bbox': [-94.691162, 44.414164, -94.21875, 44.676466],\n",
       "  'assets': {'brightness-params': {'href': 'gs://tesseract-zarr/2023/10/19/85dd5a9b111a3a058c89d7dd68b8138b08bd96a0/tensors.zarr/brightness-params',\n",
       "    'title': 'brightness-params',\n",
       "    'description': 'Zarr formatted dataset',\n",
       "    'type': 'application/zarr',\n",
       "    'roles': ['dataset']},\n",
       "   'greenness-params': {'href': 'gs://tesseract-zarr/2023/10/19/85dd5a9b111a3a058c89d7dd68b8138b08bd96a0/tensors.zarr/greenness-params',\n",
       "    'title': 'greenness-params',\n",
       "    'description': 'Zarr formatted dataset',\n",
       "    'type': 'application/zarr',\n",
       "    'roles': ['dataset']},\n",
       "   'landsat': {'href': 'gs://tesseract-zarr/2023/10/19/85dd5a9b111a3a058c89d7dd68b8138b08bd96a0/tensors.zarr/landsat',\n",
       "    'title': 'landsat',\n",
       "    'description': 'Zarr formatted dataset',\n",
       "    'type': 'application/zarr',\n",
       "    'roles': ['dataset'],\n",
       "    'eo:bands': [{'name': 'blue'},\n",
       "     {'name': 'green'},\n",
       "     {'name': 'red'},\n",
       "     {'name': 'nir'},\n",
       "     {'name': 'swir1'},\n",
       "     {'name': 'swir2'}]},\n",
       "   'logs': {'href': 'gs://tesseract-zarr/2023/10/19/85dd5a9b111a3a058c89d7dd68b8138b08bd96a0/features/logs/logs.parquet',\n",
       "    'title': 'logs',\n",
       "    'description': 'GeoParquet formatted dataset',\n",
       "    'type': 'application/parquet',\n",
       "    'roles': ['dataset']},\n",
       "   'wetness-params': {'href': 'gs://tesseract-zarr/2023/10/19/85dd5a9b111a3a058c89d7dd68b8138b08bd96a0/tensors.zarr/wetness-params',\n",
       "    'title': 'wetness-params',\n",
       "    'description': 'Zarr formatted dataset',\n",
       "    'type': 'application/zarr',\n",
       "    'roles': ['dataset']},\n",
       "   'zarr-root': {'href': 'gs://tesseract-zarr/2023/10/19/85dd5a9b111a3a058c89d7dd68b8138b08bd96a0/tensors.zarr',\n",
       "    'title': 'zarr-root',\n",
       "    'description': \"The root group for this job's tensor outputs\",\n",
       "    'type': 'application/zarr',\n",
       "    'roles': ['dataset']}}},\n",
       " 'alerts': [{'title': 'Input Validation Warning',\n",
       "   'detail': 'resample not set on pixels options, defaulting to resample nearest (output 0 of step add-landsat)',\n",
       "   'severity': 'WARN_LOW'}],\n",
       " 'n_quarks': 0,\n",
       " 'n_steps': 2,\n",
       " 'n_edges': 0,\n",
       " 'avg_quark_size_bytes': 0.0}"
      ]
     },
     "execution_count": 8,
     "metadata": {},
     "output_type": "execute_result"
    }
   ],
   "source": [
    "res = job.submit(dry_run=False)"
   ]
  },
  {
   "cell_type": "code",
   "execution_count": 9,
   "metadata": {},
   "outputs": [
    {
     "data": {
      "application/vnd.jupyter.widget-view+json": {
       "model_id": "9000152d3e9443b5a6e6687e7b0c4a72",
       "version_major": 2,
       "version_minor": 0
      },
      "text/plain": [
       "HBox(children=(VBox(children=(HTML(value='<h2>Job: Harmonic Regression Demo - submitted</h2>'), HTML(value='<h…"
      ]
     },
     "metadata": {},
     "output_type": "display_data"
    }
   ],
   "source": [
    "job.watch()"
   ]
  },
  {
   "cell_type": "code",
   "execution_count": 13,
   "metadata": {},
   "outputs": [
    {
     "data": {
      "text/plain": [
       "{'job_id': '85dd5a9b111a3a058c89d7dd68b8138b08bd96a0', 'state': 'deleted'}"
      ]
     },
     "execution_count": 13,
     "metadata": {},
     "output_type": "execute_result"
    }
   ],
   "source": [
    "job.status()"
   ]
  },
  {
   "cell_type": "code",
   "execution_count": 10,
   "metadata": {},
   "outputs": [],
   "source": [
    "job.delete(remove_data=True)"
   ]
  },
  {
   "cell_type": "code",
   "execution_count": 10,
   "metadata": {},
   "outputs": [
    {
     "name": "stderr",
     "output_type": "stream",
     "text": [
      "/home/rob/miniconda3/envs/har-reg/lib/python3.8/site-packages/geodesic/descriptors.py:102: UserWarning: field global_properties is deprecated and will be removed in a future version\n",
      "  warnings.warn(\n"
     ]
    }
   ],
   "source": [
    "job = geodesic.tesseract.job.get_jobs()[0]"
   ]
  },
  {
   "cell_type": "code",
   "execution_count": 15,
   "metadata": {},
   "outputs": [],
   "source": [
    "res = job.delete(remove_data=True)"
   ]
  },
  {
   "cell_type": "code",
   "execution_count": null,
   "metadata": {},
   "outputs": [],
   "source": []
  }
 ],
 "metadata": {
  "kernelspec": {
   "display_name": "Python 3",
   "language": "python",
   "name": "python3"
  },
  "language_info": {
   "codemirror_mode": {
    "name": "ipython",
    "version": 3
   },
   "file_extension": ".py",
   "mimetype": "text/x-python",
   "name": "python",
   "nbconvert_exporter": "python",
   "pygments_lexer": "ipython3",
   "version": "3.8.18"
  }
 },
 "nbformat": 4,
 "nbformat_minor": 2
}
