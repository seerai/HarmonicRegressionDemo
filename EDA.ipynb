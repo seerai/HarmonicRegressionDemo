{
 "cells": [
  {
   "cell_type": "code",
   "execution_count": 1,
   "metadata": {
    "tags": []
   },
   "outputs": [
    {
     "name": "stderr",
     "output_type": "stream",
     "text": [
      "/home/rob/miniconda3/envs/har-reg/lib/python3.8/site-packages/geodesic/utils/downloader.py:36: UserWarning: google.cloud.storage is installed, but GOOGLE_APPLICATION_CREDENTIALS is not set\n",
      "  warnings.warn(\n"
     ]
    }
   ],
   "source": [
    "import geodesic\n",
    "import numpy as np\n",
    "# import ee\n",
    "# sa = \"earth-engine@double-catfish-291717.iam.gserviceaccount.com\"\n",
    "# creds = ee.ServiceAccountCredentials(sa, '/home/rob/.config/gcloud/gee.json')\n",
    "# ee.Initialize(creds)"
   ]
  },
  {
   "cell_type": "code",
   "execution_count": 2,
   "metadata": {
    "tags": []
   },
   "outputs": [
    {
     "data": {
      "text/plain": [
       "{'name': 'har-reg',\n",
       " 'alias': 'harmonic regression demo',\n",
       " 'description': 'demo of harmonic regression',\n",
       " 'keywords': 'TCT, harmonic regression, demo',\n",
       " 'uid': '4941c7671b52e1af02090fcae36a301c7129d974',\n",
       " 'owner': 'auth0|60a83a706acb9a00718c598a'}"
      ]
     },
     "execution_count": 2,
     "metadata": {},
     "output_type": "execute_result"
    }
   ],
   "source": [
    "proj = geodesic.create_project(name='har-reg', alias='harmonic regression demo', description='demo of harmonic regression', keywords=['TCT', 'harmonic regression', 'demo'])\n",
    "geodesic.set_active_project(proj)"
   ]
  },
  {
   "cell_type": "code",
   "execution_count": 3,
   "metadata": {},
   "outputs": [],
   "source": [
    "proj = geodesic.set_active_project(\"har-reg\")"
   ]
  },
  {
   "cell_type": "code",
   "execution_count": 20,
   "metadata": {},
   "outputs": [],
   "source": [
    "landsat = geodesic.Dataset.from_google_earth_engine(\n",
    "    name='landsat-8',\n",
    "    asset='LANDSAT/LC08/C02/T1_L2',\n",
    "    credential='gee-service-account',\n",
    "    alias='Landsat 8 Surface Reflectance',\n",
    "    domain='earth-bservation',\n",
    "    category='satellite',\n",
    "    type='electro-optical',\n",
    ")\n",
    "landsat.save()"
   ]
  },
  {
   "cell_type": "code",
   "execution_count": 3,
   "metadata": {
    "tags": []
   },
   "outputs": [
    {
     "data": {
      "text/plain": [
       "'Landsat 8 Surface Reflectance'"
      ]
     },
     "execution_count": 3,
     "metadata": {},
     "output_type": "execute_result"
    }
   ],
   "source": [
    "ds = geodesic.get_objects(search='landsat-8')[0]\n",
    "ds.alias"
   ]
  },
  {
   "cell_type": "code",
   "execution_count": 5,
   "metadata": {},
   "outputs": [
    {
     "data": {
      "text/plain": [
       "dict_keys(['project', 'uid', 'class', 'domain', 'category', 'type', 'name', 'geometry', 'item', 'description'])"
      ]
     },
     "execution_count": 5,
     "metadata": {},
     "output_type": "execute_result"
    }
   ],
   "source": [
    "ds.keys()"
   ]
  },
  {
   "cell_type": "code",
   "execution_count": 9,
   "metadata": {},
   "outputs": [
    {
     "data": {
      "text/plain": [
       "{'QA_PIXEL': {'title': 'QA_PIXEL', 'type': 'image/tiff; application=geotiff'},\n",
       " 'QA_RADSAT': {'title': 'QA_RADSAT',\n",
       "  'type': 'image/tiff; application=geotiff'},\n",
       " 'SR_B1': {'title': 'SR_B1', 'type': 'image/tiff; application=geotiff'},\n",
       " 'SR_B2': {'title': 'SR_B2', 'type': 'image/tiff; application=geotiff'},\n",
       " 'SR_B3': {'title': 'SR_B3', 'type': 'image/tiff; application=geotiff'},\n",
       " 'SR_B4': {'title': 'SR_B4', 'type': 'image/tiff; application=geotiff'},\n",
       " 'SR_B5': {'title': 'SR_B5', 'type': 'image/tiff; application=geotiff'},\n",
       " 'SR_B6': {'title': 'SR_B6', 'type': 'image/tiff; application=geotiff'},\n",
       " 'SR_B7': {'title': 'SR_B7', 'type': 'image/tiff; application=geotiff'},\n",
       " 'SR_QA_AEROSOL': {'title': 'SR_QA_AEROSOL',\n",
       "  'type': 'image/tiff; application=geotiff'},\n",
       " 'ST_ATRAN': {'title': 'ST_ATRAN', 'type': 'image/tiff; application=geotiff'},\n",
       " 'ST_B10': {'title': 'ST_B10', 'type': 'image/tiff; application=geotiff'},\n",
       " 'ST_CDIST': {'title': 'ST_CDIST', 'type': 'image/tiff; application=geotiff'},\n",
       " 'ST_DRAD': {'title': 'ST_DRAD', 'type': 'image/tiff; application=geotiff'},\n",
       " 'ST_EMIS': {'title': 'ST_EMIS', 'type': 'image/tiff; application=geotiff'},\n",
       " 'ST_EMSD': {'title': 'ST_EMSD', 'type': 'image/tiff; application=geotiff'},\n",
       " 'ST_QA': {'title': 'ST_QA', 'type': 'image/tiff; application=geotiff'},\n",
       " 'ST_TRAD': {'title': 'ST_TRAD', 'type': 'image/tiff; application=geotiff'},\n",
       " 'ST_URAD': {'title': 'ST_URAD', 'type': 'image/tiff; application=geotiff'},\n",
       " 'image': {'description': 'image data for this dataset',\n",
       "  'title': 'image',\n",
       "  'type': 'image/tiff; application=geotiff'}}"
      ]
     },
     "execution_count": 9,
     "metadata": {},
     "output_type": "execute_result"
    }
   ],
   "source": [
    "ds.item['item_assets']"
   ]
  },
  {
   "cell_type": "code",
   "execution_count": 4,
   "metadata": {
    "tags": []
   },
   "outputs": [],
   "source": [
    "res = ds.query(bbox=(-94.169998,44.866333,-94.156609,44.873389), datetime=('2023-01-01','2023-12-31'), limit=None)"
   ]
  },
  {
   "cell_type": "code",
   "execution_count": 5,
   "metadata": {
    "tags": []
   },
   "outputs": [],
   "source": [
    "date_list = []\n",
    "for feat in res.features:\n",
    "    date_list.append(feat['properties']['DATE_ACQUIRED'])"
   ]
  },
  {
   "cell_type": "code",
   "execution_count": 6,
   "metadata": {
    "tags": []
   },
   "outputs": [
    {
     "data": {
      "text/plain": [
       "['2023-01-06',\n",
       " '2023-01-31',\n",
       " '2023-02-07',\n",
       " '2023-02-23',\n",
       " '2023-03-20',\n",
       " '2023-03-27',\n",
       " '2023-04-12',\n",
       " '2023-05-07',\n",
       " '2023-05-14',\n",
       " '2023-05-23',\n",
       " '2023-05-30',\n",
       " '2023-06-08',\n",
       " '2023-06-15',\n",
       " '2023-06-24',\n",
       " '2023-07-01',\n",
       " '2023-07-10',\n",
       " '2023-07-17',\n",
       " '2023-07-26',\n",
       " '2023-08-02',\n",
       " '2023-08-11',\n",
       " '2023-08-18',\n",
       " '2023-08-27',\n",
       " '2023-09-03',\n",
       " '2023-09-12',\n",
       " '2023-09-19',\n",
       " '2023-10-05']"
      ]
     },
     "execution_count": 6,
     "metadata": {},
     "output_type": "execute_result"
    }
   ],
   "source": [
    "date_list.sort()\n",
    "date_list"
   ]
  },
  {
   "cell_type": "code",
   "execution_count": 48,
   "metadata": {},
   "outputs": [],
   "source": [
    "import datetime"
   ]
  },
  {
   "cell_type": "code",
   "execution_count": 49,
   "metadata": {},
   "outputs": [],
   "source": [
    "# convert the date_list to datetimes then make a new list of the difference between each date\n",
    "date_list = [datetime.datetime.strptime(date, '%Y-%m-%d') for date in date_list]\n",
    "date_diffs = [date_list[i+1] - date_list[i] for i in range(len(date_list)-1)]"
   ]
  },
  {
   "cell_type": "code",
   "execution_count": 50,
   "metadata": {},
   "outputs": [
    {
     "data": {
      "text/plain": [
       "[datetime.timedelta(days=9),\n",
       " datetime.timedelta(days=7),\n",
       " datetime.timedelta(days=16),\n",
       " datetime.timedelta(days=9),\n",
       " datetime.timedelta(days=7),\n",
       " datetime.timedelta(days=16),\n",
       " datetime.timedelta(days=9),\n",
       " datetime.timedelta(days=7),\n",
       " datetime.timedelta(days=9),\n",
       " datetime.timedelta(days=7),\n",
       " datetime.timedelta(days=25),\n",
       " datetime.timedelta(days=16),\n",
       " datetime.timedelta(days=7),\n",
       " datetime.timedelta(days=9),\n",
       " datetime.timedelta(days=7),\n",
       " datetime.timedelta(days=9),\n",
       " datetime.timedelta(days=7),\n",
       " datetime.timedelta(days=9),\n",
       " datetime.timedelta(days=7),\n",
       " datetime.timedelta(days=16),\n",
       " datetime.timedelta(days=9),\n",
       " datetime.timedelta(days=16),\n",
       " datetime.timedelta(days=7),\n",
       " datetime.timedelta(days=16),\n",
       " datetime.timedelta(days=9),\n",
       " datetime.timedelta(days=7),\n",
       " datetime.timedelta(days=9),\n",
       " datetime.timedelta(days=7),\n",
       " datetime.timedelta(days=9),\n",
       " datetime.timedelta(days=23),\n",
       " datetime.timedelta(days=9),\n",
       " datetime.timedelta(days=32)]"
      ]
     },
     "execution_count": 50,
     "metadata": {},
     "output_type": "execute_result"
    }
   ],
   "source": [
    "date_diffs"
   ]
  },
  {
   "cell_type": "code",
   "execution_count": 34,
   "metadata": {},
   "outputs": [],
   "source": [
    "arr = ds.get_pixels(\n",
    "    bbox=(-94.169998,44.866333,-94.156609,44.873389), \n",
    "    datetime=('2022-12-01','2022-12-31'), \n",
    "    output_srs='EPSG:3857',\n",
    "    pixel_size=30,\n",
    "    asset_bands=[{\"asset\":\"SR_B2\", \"bands\":[0]}],\n",
    "    pixel_dtype=np.uint16\n",
    ")"
   ]
  },
  {
   "cell_type": "code",
   "execution_count": 35,
   "metadata": {},
   "outputs": [
    {
     "data": {
      "text/plain": [
       "56141"
      ]
     },
     "execution_count": 35,
     "metadata": {},
     "output_type": "execute_result"
    }
   ],
   "source": [
    "arr.max()"
   ]
  },
  {
   "cell_type": "code",
   "execution_count": 26,
   "metadata": {},
   "outputs": [],
   "source": [
    "import matplotlib.pyplot as plt"
   ]
  },
  {
   "cell_type": "code",
   "execution_count": 27,
   "metadata": {},
   "outputs": [
    {
     "data": {
      "text/plain": [
       "<matplotlib.image.AxesImage at 0x7f3ad1774a60>"
      ]
     },
     "execution_count": 27,
     "metadata": {},
     "output_type": "execute_result"
    },
    {
     "data": {
      "image/png": "[encoded data removed]",
      "text/plain": [
       "<Figure size 640x480 with 1 Axes>"
      ]
     },
     "metadata": {},
     "output_type": "display_data"
    }
   ],
   "source": [
    "plt.imshow(arr[0,:,:])"
   ]
  },
  {
   "cell_type": "code",
   "execution_count": null,
   "metadata": {},
   "outputs": [],
   "source": []
  }
 ],
 "metadata": {
  "kernelspec": {
   "display_name": "Python 3 (ipykernel)",
   "language": "python",
   "name": "python3"
  },
  "language_info": {
   "codemirror_mode": {
    "name": "ipython",
    "version": 3
   },
   "file_extension": ".py",
   "mimetype": "text/x-python",
   "name": "python",
   "nbconvert_exporter": "python",
   "pygments_lexer": "ipython3",
   "version": "3.8.18"
  }
 },
 "nbformat": 4,
 "nbformat_minor": 4
}
