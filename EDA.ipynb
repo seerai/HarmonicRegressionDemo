{
 "cells": [
  {
   "cell_type": "code",
   "execution_count": 1,
   "metadata": {},
   "outputs": [
    {
     "name": "stderr",
     "output_type": "stream",
     "text": [
      "/home/rob/miniconda3/envs/har-reg/lib/python3.8/site-packages/geodesic/utils/downloader.py:36: UserWarning: google.cloud.storage is installed, but GOOGLE_APPLICATION_CREDENTIALS is not set\n",
      "  warnings.warn(\n"
     ]
    }
   ],
   "source": [
    "import geodesic"
   ]
  },
  {
   "cell_type": "code",
   "execution_count": 9,
   "metadata": {},
   "outputs": [
    {
     "data": {
      "text/plain": [
       "{'name': 'har-reg',\n",
       " 'alias': 'harmonic regression demo',\n",
       " 'description': 'demo of harmonic regression',\n",
       " 'keywords': 'TCT, harmonic regression, demo',\n",
       " 'uid': '4941c7671b52e1af02090fcae36a301c7129d974',\n",
       " 'owner': 'auth0|60a83a706acb9a00718c598a'}"
      ]
     },
     "execution_count": 9,
     "metadata": {},
     "output_type": "execute_result"
    }
   ],
   "source": [
    "proj = geodesic.create_project(name='har-reg', alias='harmonic regression demo', description='demo of harmonic regression', keywords=['TCT', 'harmonic regression', 'demo'])\n",
    "geodesic.set_active_project(proj)"
   ]
  },
  {
   "cell_type": "code",
   "execution_count": 5,
   "metadata": {},
   "outputs": [
    {
     "name": "stdout",
     "output_type": "stream",
     "text": [
      "{}\n"
     ]
    }
   ],
   "source": [
    "geodesic."
   ]
  },
  {
   "cell_type": "code",
   "execution_count": null,
   "metadata": {},
   "outputs": [],
   "source": []
  }
 ],
 "metadata": {
  "kernelspec": {
   "display_name": "har-reg",
   "language": "python",
   "name": "python3"
  },
  "language_info": {
   "codemirror_mode": {
    "name": "ipython",
    "version": 3
   },
   "file_extension": ".py",
   "mimetype": "text/x-python",
   "name": "python",
   "nbconvert_exporter": "python",
   "pygments_lexer": "ipython3",
   "version": "3.8.18"
  }
 },
 "nbformat": 4,
 "nbformat_minor": 2
}
