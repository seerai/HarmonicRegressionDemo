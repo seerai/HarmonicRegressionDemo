{
 "cells": [
  {
   "cell_type": "code",
   "execution_count": 2,
   "metadata": {},
   "outputs": [],
   "source": [
    "import geodesic\n",
    "import yaml\n",
    "from geodesic.tesseract import Step, StepInput, StepOutput, Container\n",
    "import numpy as np\n",
    "import ee"
   ]
  },
  {
   "cell_type": "code",
   "execution_count": 10,
   "metadata": {},
   "outputs": [],
   "source": [
    "ee_creds = ee.ServiceAccountCredentials('earth-engine@double-catfish-291717.iam.gserviceaccount.com', '/home/rob/.config/gcloud/gee.json')\n",
    "ee.Initialize(ee_creds)"
   ]
  },
  {
   "cell_type": "code",
   "execution_count": 3,
   "metadata": {},
   "outputs": [
    {
     "data": {
      "text/plain": [
       "{'name': 'har-reg',\n",
       " 'alias': 'Harmonic Regression Demo',\n",
       " 'description': 'A demo of harmonic regression models in Entanglement',\n",
       " 'keywords': 'demo, harmonic regression, entanglement',\n",
       " 'uid': '4941c7671b52e1af02090fcae36a301c7129d974',\n",
       " 'owner': 'auth0|60a83a706acb9a00718c598a'}"
      ]
     },
     "execution_count": 3,
     "metadata": {},
     "output_type": "execute_result"
    }
   ],
   "source": [
    "proj = geodesic.create_project(\n",
    "    name=\"har-reg\",\n",
    "    alias=\"Harmonic Regression Demo\",\n",
    "    description=\"A demo of harmonic regression models in Entanglement\",\n",
    "    keywords=[\"demo\", \"harmonic regression\", \"entanglement\"],\n",
    "    )\n",
    "geodesic.set_active_project(proj)"
   ]
  },
  {
   "cell_type": "code",
   "execution_count": 3,
   "metadata": {},
   "outputs": [
    {
     "data": {
      "text/plain": [
       "[modelset:remote-sensing:earth-observation:multispectral:harmonic-regression-model]"
      ]
     },
     "execution_count": 3,
     "metadata": {},
     "output_type": "execute_result"
    }
   ],
   "source": [
    "geodesic.get_objects()"
   ]
  },
  {
   "cell_type": "code",
   "execution_count": 4,
   "metadata": {},
   "outputs": [],
   "source": [
    "with open('harreg_modelset.yaml') as f:\n",
    "    modelsets = yaml.safe_load(f)"
   ]
  },
  {
   "cell_type": "code",
   "execution_count": 5,
   "metadata": {},
   "outputs": [
    {
     "data": {
      "text/plain": [
       "{'name': 'harmonic-regression',\n",
       " 'type': 'model',\n",
       " 'inputs': [{'asset_name': 'input-imagery',\n",
       "   'spatial_chunk_shape': [512, 512],\n",
       "   'overlap': 0,\n",
       "   'bands': [0, 1, 2, 3, 4, 5],\n",
       "   'type': 'tensor'}],\n",
       " 'outputs': [{'asset_name': 'brightness-parameters',\n",
       "   'chunk_shape': [1, 10, 512, 512],\n",
       "   'type': 'tensor',\n",
       "   'pixel_dtype': '<f8',\n",
       "   'fill_value': 'nan'},\n",
       "  {'asset_name': 'greenness-parameters',\n",
       "   'chunk_shape': [1, 10, 512, 512],\n",
       "   'type': 'tensor',\n",
       "   'pixel_dtype': '<f8',\n",
       "   'fill_value': 'nan'},\n",
       "  {'asset_name': 'wetness-parameters',\n",
       "   'chunk_shape': [1, 10, 512, 512],\n",
       "   'type': 'tensor',\n",
       "   'pixel_dtype': '<f8',\n",
       "   'fill_value': 'nan'}]}"
      ]
     },
     "execution_count": 5,
     "metadata": {},
     "output_type": "execute_result"
    }
   ],
   "source": [
    "modelsets['modelset']['tesseract_config']"
   ]
  },
  {
   "cell_type": "code",
   "execution_count": 6,
   "metadata": {},
   "outputs": [],
   "source": [
    "cli = geodesic.service.ServiceClient('entanglement', '1')"
   ]
  },
  {
   "cell_type": "code",
   "execution_count": 7,
   "metadata": {},
   "outputs": [],
   "source": [
    "modelsets['modelset']['project'] = proj.uid"
   ]
  },
  {
   "cell_type": "code",
   "execution_count": 9,
   "metadata": {},
   "outputs": [
    {
     "data": {
      "text/plain": [
       "{'uids': ['0x42aeb4']}"
      ]
     },
     "execution_count": 9,
     "metadata": {},
     "output_type": "execute_result"
    }
   ],
   "source": [
    "resp = cli.post('modelsets',project=proj.uid, **modelsets)\n",
    "resp.json()"
   ]
  },
  {
   "cell_type": "code",
   "execution_count": 19,
   "metadata": {},
   "outputs": [
    {
     "data": {
      "text/plain": [
       "[modelset:remote-sensing:earth-observation:multispectral:harmonic-regression-model,\n",
       " dataset:earth-observation:satellite:electro-optical:landsat-8]"
      ]
     },
     "execution_count": 19,
     "metadata": {},
     "output_type": "execute_result"
    }
   ],
   "source": [
    "objs = geodesic.get_objects()\n",
    "objs"
   ]
  },
  {
   "cell_type": "code",
   "execution_count": 20,
   "metadata": {},
   "outputs": [],
   "source": [
    "model = objs[0]"
   ]
  },
  {
   "cell_type": "code",
   "execution_count": 5,
   "metadata": {},
   "outputs": [],
   "source": [
    "# for obj in objs:\n",
    "    # obj.delete(hard=True, show_prompt=False)"
   ]
  },
  {
   "cell_type": "code",
   "execution_count": 15,
   "metadata": {},
   "outputs": [],
   "source": [
    "creds = geodesic.account.Credential.from_gcp_service_account(name=\"gee-creds\")"
   ]
  },
  {
   "cell_type": "code",
   "execution_count": 17,
   "metadata": {},
   "outputs": [],
   "source": [
    "creds.create()"
   ]
  },
  {
   "cell_type": "code",
   "execution_count": 11,
   "metadata": {},
   "outputs": [],
   "source": [
    "landsat = geodesic.Dataset.from_google_earth_engine(\n",
    "    name='landsat-8',\n",
    "    asset='LANDSAT/LC08/C02/T1_L2',\n",
    "    credential='gee-creds',\n",
    "    alias='Landsat 8 Surface Reflectance',\n",
    "    domain='earth-observation',\n",
    "    category='satellite',\n",
    "    type='electro-optical',\n",
    ")\n",
    "# landsat.save()"
   ]
  },
  {
   "cell_type": "code",
   "execution_count": 18,
   "metadata": {},
   "outputs": [
    {
     "data": {
      "application/vnd.jupyter.widget-view+json": {
       "model_id": "a27e4fa5487847b9ad1bcbc3b2a42e4b",
       "version_major": 2,
       "version_minor": 0
      },
      "text/plain": [
       "ObjectWidget(object_value=[{'alias': 'Landsat 8 Surface Reflectance', 'name': 'landsat-8', 'project': '4941c76…"
      ]
     },
     "metadata": {},
     "output_type": "display_data"
    }
   ],
   "source": [
    "landsat.save()"
   ]
  },
  {
   "cell_type": "code",
   "execution_count": 26,
   "metadata": {},
   "outputs": [],
   "source": [
    "model_input = geodesic.entanglement.Predicate(\n",
    "    name=\"model-input\",\n",
    ")"
   ]
  },
  {
   "cell_type": "code",
   "execution_count": 27,
   "metadata": {},
   "outputs": [],
   "source": [
    "geodesic.entanglement.add_predicates('Input', [model_input])"
   ]
  },
  {
   "cell_type": "code",
   "execution_count": 38,
   "metadata": {},
   "outputs": [],
   "source": [
    "conn = landsat.connect_with(predicate='model-input', object=model)"
   ]
  },
  {
   "cell_type": "markdown",
   "metadata": {},
   "source": [
    "Going to just grab the dataset from the prod cluster for the har-reg tesseract output and put it into the test cluster. Dont want to have to rerun the tesseract job if I dont have to."
   ]
  },
  {
   "cell_type": "code",
   "execution_count": 2,
   "metadata": {},
   "outputs": [],
   "source": [
    "proj = geodesic.set_active_project('har-reg')"
   ]
  },
  {
   "cell_type": "code",
   "execution_count": 3,
   "metadata": {},
   "outputs": [
    {
     "data": {
      "text/plain": [
       "{'name': 'har-reg',\n",
       " 'alias': 'harmonic regression demo',\n",
       " 'description': 'demo of harmonic regression',\n",
       " 'owner': 'auth0|60a83a706acb9a00718c598a',\n",
       " 'keywords': 'TCT, harmonic regression, demo',\n",
       " 'uid': '4941c7671b52e1af02090fcae36a301c7129d974'}"
      ]
     },
     "execution_count": 3,
     "metadata": {},
     "output_type": "execute_result"
    }
   ],
   "source": [
    "proj"
   ]
  },
  {
   "cell_type": "code",
   "execution_count": 5,
   "metadata": {},
   "outputs": [
    {
     "data": {
      "text/plain": [
       "[dataset:earth-bservation:satellite:electro-optical:landsat-8,\n",
       " dataset:*:*:*:har-reg-demo,\n",
       " dataset:*:*:*:har-reg-demo-full,\n",
       " dataset:*:*:*:har-reg-demo-large-area]"
      ]
     },
     "execution_count": 5,
     "metadata": {},
     "output_type": "execute_result"
    }
   ],
   "source": [
    "objs = geodesic.get_objects()\n",
    "objs"
   ]
  },
  {
   "cell_type": "code",
   "execution_count": 6,
   "metadata": {},
   "outputs": [],
   "source": [
    "ds = objs[2]"
   ]
  },
  {
   "cell_type": "code",
   "execution_count": 5,
   "metadata": {},
   "outputs": [],
   "source": [
    "import json"
   ]
  },
  {
   "cell_type": "code",
   "execution_count": 11,
   "metadata": {},
   "outputs": [],
   "source": [
    "with open('har-reg-demo-full.json', 'w') as f:\n",
    "    json.dump(ds, f, indent=2)"
   ]
  },
  {
   "cell_type": "markdown",
   "metadata": {},
   "source": [
    "Switched back to the test cluster so Im just going to add this dataset."
   ]
  },
  {
   "cell_type": "code",
   "execution_count": 12,
   "metadata": {},
   "outputs": [
    {
     "data": {
      "text/plain": [
       "[modelset:remote-sensing:earth-observation:multispectral:harmonic-regression-model,\n",
       " dataset:earth-observation:satellite:electro-optical:landsat-8,\n",
       " dataset:*:*:*:har-reg-demo-full]"
      ]
     },
     "execution_count": 12,
     "metadata": {},
     "output_type": "execute_result"
    }
   ],
   "source": [
    "all = geodesic.get_objects()\n",
    "all"
   ]
  },
  {
   "cell_type": "code",
   "execution_count": 13,
   "metadata": {},
   "outputs": [],
   "source": [
    "model_node = all[0]"
   ]
  },
  {
   "cell_type": "code",
   "execution_count": 8,
   "metadata": {},
   "outputs": [],
   "source": [
    "with open('har-reg-demo-full.json') as f:\n",
    "    dsj = json.load(f)"
   ]
  },
  {
   "cell_type": "code",
   "execution_count": 9,
   "metadata": {},
   "outputs": [],
   "source": [
    "ds = geodesic.Dataset(**dsj)"
   ]
  },
  {
   "cell_type": "code",
   "execution_count": 10,
   "metadata": {},
   "outputs": [
    {
     "data": {
      "application/vnd.jupyter.widget-view+json": {
       "model_id": "f96f3c3d5c244ee19c9937ce9cbbb413",
       "version_major": 2,
       "version_minor": 0
      },
      "text/plain": [
       "ObjectWidget(object_value=[{'alias': 'Harmonic Regression Demo', 'name': 'har-reg-demo-full', 'project': '4941…"
      ]
     },
     "metadata": {},
     "output_type": "display_data"
    }
   ],
   "source": [
    "ds.save()"
   ]
  },
  {
   "cell_type": "code",
   "execution_count": 14,
   "metadata": {},
   "outputs": [
    {
     "data": {
      "text/plain": [
       "dataset:*:*:*:har-reg-demo-full --derived-from--> modelset:remote-sensing:earth-observation:multispectral:harmonic-regression-model"
      ]
     },
     "execution_count": 14,
     "metadata": {},
     "output_type": "execute_result"
    }
   ],
   "source": [
    "ds.connect_with(predicate='derived-from', object=model_node)"
   ]
  },
  {
   "cell_type": "code",
   "execution_count": 15,
   "metadata": {},
   "outputs": [
    {
     "data": {
      "text/plain": [
       "entity:us-governement:government-agency:forest-management:us-forest-service"
      ]
     },
     "execution_count": 15,
     "metadata": {},
     "output_type": "execute_result"
    }
   ],
   "source": [
    "usfs = geodesic.Object(\n",
    "    name=\"us-forest-service\",\n",
    "    alias=\"US Forest Service\",\n",
    "    description=\"A US government agency responsible for managing the nation's forests and grasslands.\",\n",
    "    keywords=[\"forest\", \"management\", \"government\"],\n",
    "    object_class=\"Entity\",\n",
    "    domain=\"us-governement\",\n",
    "    category=\"government-agency\",\n",
    "    type=\"forest-management\",\n",
    "    item={\n",
    "        'href': 'https://www.fs.usda.gov/',\n",
    "    },\n",
    "    project=proj.uid\n",
    ")\n",
    "usfs.save()"
   ]
  },
  {
   "cell_type": "code",
   "execution_count": 16,
   "metadata": {},
   "outputs": [
    {
     "data": {
      "text/plain": [
       "concept:ecology:forest-ecology:forest-condition:forest-health"
      ]
     },
     "execution_count": 16,
     "metadata": {},
     "output_type": "execute_result"
    }
   ],
   "source": [
    "forest_health = geodesic.Object(\n",
    "    name=\"forest-health\",\n",
    "    alias=\"Forest Health\",\n",
    "    description=\"The condition of a forest, including the presence of pests, diseases, and other stressors.\",\n",
    "    keywords=[\"forest\", \"health\", \"condition\"],\n",
    "    object_class=\"Concept\",\n",
    "    domain=\"ecology\",\n",
    "    category=\"forest-ecology\",\n",
    "    type=\"forest-condition\",\n",
    "    project=proj.uid\n",
    ")\n",
    "forest_health.save()"
   ]
  },
  {
   "cell_type": "code",
   "execution_count": 17,
   "metadata": {},
   "outputs": [
    {
     "data": {
      "text/plain": [
       "concept:earth-observation:land-cover:land-cover:landcover"
      ]
     },
     "execution_count": 17,
     "metadata": {},
     "output_type": "execute_result"
    }
   ],
   "source": [
    "landcover = geodesic.Object(\n",
    "    name=\"landcover\",\n",
    "    alias=\"Land Cover\",\n",
    "    description=\"The physical and biological cover of the earth's surface, including vegetation, water, and other features.\",\n",
    "    keywords=[\"land\", \"cover\", \"vegetation\"],\n",
    "    object_class=\"Concept\",\n",
    "    domain=\"earth-observation\",\n",
    "    category=\"land-cover\",\n",
    "    type=\"land-cover\",\n",
    "    project=proj.uid\n",
    ")\n",
    "landcover.save()"
   ]
  },
  {
   "cell_type": "code",
   "execution_count": 18,
   "metadata": {},
   "outputs": [
    {
     "data": {
      "text/plain": [
       "modelset:remote-sensing:earth-observation:multispectral:harmonic-regression-model --can-observe--> concept:ecology:forest-ecology:forest-condition:forest-health"
      ]
     },
     "execution_count": 18,
     "metadata": {},
     "output_type": "execute_result"
    }
   ],
   "source": [
    "usfs.connect_with(predicate='responsible-for', object=forest_health)\n",
    "usfs.connect_with(predicate='related-to', object=landcover)\n",
    "model_node.connect_with(predicate='can-observe', object=landcover)\n",
    "model_node.connect_with(predicate='can-observe', object=forest_health)"
   ]
  },
  {
   "cell_type": "code",
   "execution_count": 19,
   "metadata": {},
   "outputs": [
    {
     "data": {
      "text/plain": [
       "concept:earth-observation:imagery:earth-observation-imagery:eo-imagery"
      ]
     },
     "execution_count": 19,
     "metadata": {},
     "output_type": "execute_result"
    }
   ],
   "source": [
    "eo_imagery = geodesic.Object(\n",
    "    name=\"eo-imagery\",\n",
    "    alias=\"Earth Observation Imagery\",\n",
    "    description=\"Imagery of the earth's surface captured by satellites and other remote sensing platforms.\",\n",
    "    keywords=[\"earth\", \"observation\", \"imagery\"],\n",
    "    object_class=\"Concept\",\n",
    "    domain=\"earth-observation\",\n",
    "    category=\"imagery\",\n",
    "    type=\"earth-observation-imagery\",\n",
    "    project=proj.uid\n",
    ")\n",
    "eo_imagery.save()"
   ]
  },
  {
   "cell_type": "code",
   "execution_count": 26,
   "metadata": {},
   "outputs": [
    {
     "data": {
      "text/plain": [
       "observable:earth-observation:spectral-band:red-band:red"
      ]
     },
     "execution_count": 26,
     "metadata": {},
     "output_type": "execute_result"
    }
   ],
   "source": [
    "red = geodesic.Object(\n",
    "    name=\"red\",\n",
    "    alias=\"Red Band\",\n",
    "    description=\"The red band of the electromagnetic spectrum, typically used for vegetation analysis or combined with other bands to create visible light imagery products. Usually centered around 650 nm wavelength, but can range from 630-675 nm.\",\n",
    "    keywords=[\"red\", \"band\", \"vegetation\"],\n",
    "    object_class=\"Observable\",\n",
    "    domain=\"earth-observation\",\n",
    "    category=\"spectral-band\",\n",
    "    type=\"red-band\",\n",
    "    project=proj.uid\n",
    ")\n",
    "red.save()"
   ]
  },
  {
   "cell_type": "code",
   "execution_count": 32,
   "metadata": {},
   "outputs": [
    {
     "data": {
      "text/plain": [
       "observable:earth-observation:spectral-band:blue-band:blue"
      ]
     },
     "execution_count": 32,
     "metadata": {},
     "output_type": "execute_result"
    }
   ],
   "source": [
    "blue= geodesic.Object(\n",
    "    name=\"blue\",\n",
    "    alias=\"Blue Band\",\n",
    "    description=\"The blue band of the electromagnetic spectrum, typically used for water quality analysis or combined with other bands to create visible light imagery products. Usually centered around 450 nm wavelength, but can range from 430-515 nm.\",\n",
    "    keywords=[\"blue\", \"band\", \"water\"],\n",
    "    object_class=\"Observable\",\n",
    "    domain=\"earth-observation\",\n",
    "    category=\"spectral-band\",\n",
    "    type=\"blue-band\",\n",
    "    project=proj.uid\n",
    ")\n",
    "blue.save()"
   ]
  },
  {
   "cell_type": "code",
   "execution_count": 33,
   "metadata": {},
   "outputs": [
    {
     "data": {
      "text/plain": [
       "observable:earth-observation:spectral-band:green-band:green"
      ]
     },
     "execution_count": 33,
     "metadata": {},
     "output_type": "execute_result"
    }
   ],
   "source": [
    "green = geodesic.Object(\n",
    "    name=\"green\",\n",
    "    alias=\"Green Band\",\n",
    "    description=\"The green band of the electromagnetic spectrum, typically used for vegetation analysis or combined with other bands to create visible light imagery products. Usually centered around 550 nm wavelength, but can range from 500-590 nm.\",\n",
    "    keywords=[\"green\", \"band\", \"vegetation\"],\n",
    "    object_class=\"Observable\",\n",
    "    domain=\"earth-observation\",\n",
    "    category=\"spectral-band\",\n",
    "    type=\"green-band\",\n",
    "    project=proj.uid\n",
    ")\n",
    "green.save()"
   ]
  },
  {
   "cell_type": "code",
   "execution_count": 34,
   "metadata": {},
   "outputs": [
    {
     "data": {
      "text/plain": [
       "observable:earth-observation:spectral-band:nir-band:nir"
      ]
     },
     "execution_count": 34,
     "metadata": {},
     "output_type": "execute_result"
    }
   ],
   "source": [
    "nir = geodesic.Object(\n",
    "    name=\"nir\",\n",
    "    alias=\"Near Infrared Band\",\n",
    "    description=\"The near infrared band of the electromagnetic spectrum, typically used for vegetation analysis or combined with other bands to create visible light imagery products. Usually centered around 850 nm wavelength, but can range from 800-900 nm.\",\n",
    "    keywords=[\"nir\", \"band\", \"vegetation\"],\n",
    "    object_class=\"Observable\",\n",
    "    domain=\"earth-observation\",\n",
    "    category=\"spectral-band\",\n",
    "    type=\"nir-band\",\n",
    "    project=proj.uid\n",
    ")\n",
    "nir.save()"
   ]
  },
  {
   "cell_type": "code",
   "execution_count": 35,
   "metadata": {},
   "outputs": [
    {
     "data": {
      "text/plain": [
       "observable:earth-observation:spectral-band:swir1-band:swir1"
      ]
     },
     "execution_count": 35,
     "metadata": {},
     "output_type": "execute_result"
    }
   ],
   "source": [
    "swir1 = geodesic.Object(\n",
    "    name=\"swir1\",\n",
    "    alias=\"Shortwave Infrared Band 1\",\n",
    "    description=\"The shortwave infrared band of the electromagnetic spectrum, typically used for vegetation analysis or combined with other bands to create visible light imagery products. Usually centered around 1650 nm wavelength, but can range from 1500-1750 nm.\",\n",
    "    keywords=[\"swir1\", \"band\", \"vegetation\"],\n",
    "    object_class=\"Observable\",\n",
    "    domain=\"earth-observation\",\n",
    "    category=\"spectral-band\",\n",
    "    type=\"swir1-band\",\n",
    "    project=proj.uid\n",
    ")\n",
    "swir1.save()"
   ]
  },
  {
   "cell_type": "code",
   "execution_count": 36,
   "metadata": {},
   "outputs": [
    {
     "data": {
      "text/plain": [
       "observable:earth-observation:spectral-band:swir2-band:swir2"
      ]
     },
     "execution_count": 36,
     "metadata": {},
     "output_type": "execute_result"
    }
   ],
   "source": [
    "swir2 = geodesic.Object(\n",
    "    name=\"swir2\",\n",
    "    alias=\"Shortwave Infrared Band 2\",\n",
    "    description=\"The shortwave infrared band of the electromagnetic spectrum, typically used for vegetation analysis or combined with other bands to create visible light imagery products. Usually centered around 2200 nm wavelength, but can range from 2100-2300 nm.\",\n",
    "    keywords=[\"swir2\", \"band\", \"vegetation\"],\n",
    "    object_class=\"Observable\",\n",
    "    domain=\"earth-observation\",\n",
    "    category=\"spectral-band\",\n",
    "    type=\"swir2-band\",\n",
    "    project=proj.uid\n",
    ")\n",
    "swir2.save()"
   ]
  },
  {
   "cell_type": "code",
   "execution_count": 62,
   "metadata": {},
   "outputs": [
    {
     "data": {
      "text/plain": [
       "[dataset:earth-observation:satellite:electro-optical:landsat-8,\n",
       " dataset:*:*:*:har-reg-demo-full]"
      ]
     },
     "execution_count": 62,
     "metadata": {},
     "output_type": "execute_result"
    }
   ],
   "source": [
    "b = geodesic.get_objects(search=\"landsat\")\n",
    "b"
   ]
  },
  {
   "cell_type": "code",
   "execution_count": 63,
   "metadata": {},
   "outputs": [
    {
     "data": {
      "text/plain": [
       "dataset:earth-observation:satellite:electro-optical:landsat-8 --can-observe--> observable:earth-observation:spectral-band:swir2-band:swir2"
      ]
     },
     "execution_count": 63,
     "metadata": {},
     "output_type": "execute_result"
    }
   ],
   "source": [
    "b[0].connect_with(predicate='can-observe', object=red)\n",
    "b[0].connect_with(predicate='can-observe', object=blue)\n",
    "b[0].connect_with(predicate='can-observe', object=green)\n",
    "b[0].connect_with(predicate='can-observe', object=nir)\n",
    "b[0].connect_with(predicate='can-observe', object=swir1)\n",
    "b[0].connect_with(predicate='can-observe', object=swir2)"
   ]
  },
  {
   "cell_type": "code",
   "execution_count": 65,
   "metadata": {},
   "outputs": [
    {
     "data": {
      "text/plain": [
       "[concept:earth-observation:imagery:earth-observation-imagery:eo-imagery]"
      ]
     },
     "execution_count": 65,
     "metadata": {},
     "output_type": "execute_result"
    }
   ],
   "source": [
    "eo = geodesic.get_objects(search=\"eo-imagery\")\n",
    "eo"
   ]
  },
  {
   "cell_type": "code",
   "execution_count": 67,
   "metadata": {},
   "outputs": [
    {
     "name": "stdout",
     "output_type": "stream",
     "text": [
      "dataset:earth-observation:satellite:electro-optical:landsat-8\n"
     ]
    }
   ],
   "source": [
    "landsat = geodesic.get_objects(search=\"landsat\")[0]\n",
    "print(landsat)"
   ]
  },
  {
   "cell_type": "code",
   "execution_count": 68,
   "metadata": {},
   "outputs": [
    {
     "data": {
      "text/plain": [
       "concept:earth-observation:imagery:earth-observation-imagery:eo-imagery --related-to--> dataset:earth-observation:satellite:electro-optical:landsat-8"
      ]
     },
     "execution_count": 68,
     "metadata": {},
     "output_type": "execute_result"
    }
   ],
   "source": [
    "eo[0].connect_with(predicate='related-to', object=landsat)"
   ]
  },
  {
   "cell_type": "code",
   "execution_count": 69,
   "metadata": {},
   "outputs": [
    {
     "data": {
      "text/plain": [
       "modelset:remote-sensing:earth-observation:multispectral:harmonic-regression-model --links--> link:*:*:*:har-reg-usfs-paper"
      ]
     },
     "execution_count": 69,
     "metadata": {},
     "output_type": "execute_result"
    }
   ],
   "source": [
    "paper = geodesic.Object(\n",
    "    name=\"har-reg-usfs-paper\",\n",
    "    alias=\"Harmonic regression of Landsat time series for modeling attributes from national forest inventory data\",\n",
    "    description=\"Imagery from the Landsat Program has been used frequently as a source of auxiliary data for modeling land cover, as well as a variety of attributes associated with tree cover. With ready access to all scenes in the archive since 2008 due to the USGS Landsat Data Policy, new approaches to deriving such auxiliary data from dense Landsat time series are required. Several methods have previously been developed for use with finer temporal resolution imagery (e.g. AVHRR and MODIS), including image compositing and harmonic regression using Fourier series. The manuscript presents a study, using Minnesota, USA during the years 2009–2013 as the study area and timeframe. The study examined the relative predictive power of land cover models, in particular those related to tree cover, using predictor variables based solely on composite imagery versus those using estimated harmonic regression coefficients. The study used two common non-parametric modeling approaches (i.e. k-nearest neighbors and random forests) for fitting classification and regression models of multiple attributes measured on USFS Forest Inventory and Analysis plots using all available Landsat imagery for the study area and timeframe. The estimated Fourier coefficients developed by harmonic regression of tasseled cap transformation time series data were shown to be correlated with land cover, including tree cover. Regression models using estimated Fourier coefficients as predictor variables showed a two- to threefold increase in explained variance for a small set of continuous response variables, relative to comparable models using monthly image composites. Similarly, the overall accuracies of classification models using the estimated Fourier coefficients were approximately 10–20 percentage points higher than the models using the image composites, with corresponding individual class accuracies between six and 45 percentage points higher.\",\n",
    "    keywords=[\"harmonic regression\", \"landsat\", \"forest inventory\", \"forest health\",\"time series\"],\n",
    "    object_class=\"Link\",\n",
    "    item={\n",
    "        'href': \"https://www.fs.usda.gov/research/treesearch/55701\"\n",
    "    }\n",
    ")\n",
    "paper.save()\n",
    "\n",
    "model_node.connect_with(predicate='links', object=paper)\n"
   ]
  },
  {
   "cell_type": "code",
   "execution_count": 70,
   "metadata": {},
   "outputs": [
    {
     "data": {
      "text/plain": [
       "[link:*:*:*:har-reg-usfs-paper]"
      ]
     },
     "execution_count": 70,
     "metadata": {},
     "output_type": "execute_result"
    }
   ],
   "source": [
    "p = geodesic.get_objects(search=\"har-reg-usfs-paper\")\n",
    "p"
   ]
  },
  {
   "cell_type": "code",
   "execution_count": 73,
   "metadata": {},
   "outputs": [
    {
     "data": {
      "text/plain": [
       "'Imagery from the Landsat Program has been used frequently as a source of auxiliary data for modeling land cover, as well as a variety of attributes associated with tree cover. With ready access to all scenes in the archive since 2008 due to the USGS Landsat Data Policy, new approaches to deriving such auxiliary data from dense Landsat time series are required. Several methods have previously been developed for use with finer temporal resolution imagery (e.g. AVHRR and MODIS), including image compositing and harmonic regression using Fourier series. The manuscript presents a study, using Minnesota, USA during the years 2009–2013 as the study area and timeframe. The study examined the relative predictive power of land cover models, in particular those related to tree cover, using predictor variables based solely on composite imagery versus those using estimated harmonic regression coefficients. The study used two common non-parametric modeling approaches (i.e. k-nearest neighbors and random forests) for fitting classification and regression models of multiple attributes measured on USFS Forest Inventory and Analysis plots using all available Landsat imagery for the study area and timeframe. The estimated Fourier coefficients developed by harmonic regression of tasseled cap transformation time series data were shown to be correlated with land cover, including tree cover. Regression models using estimated Fourier coefficients as predictor variables showed a two- to threefold increase in explained variance for a small set of continuous response variables, relative to comparable models using monthly image composites. Similarly, the overall accuracies of classification models using the estimated Fourier coefficients were approximately 10–20 percentage points higher than the models using the image composites, with corresponding individual class accuracies between six and 45 percentage points higher.'"
      ]
     },
     "execution_count": 73,
     "metadata": {},
     "output_type": "execute_result"
    }
   ],
   "source": [
    "p[0].description"
   ]
  },
  {
   "cell_type": "code",
   "execution_count": null,
   "metadata": {},
   "outputs": [],
   "source": []
  }
 ],
 "metadata": {
  "kernelspec": {
   "display_name": "geodesic-dev",
   "language": "python",
   "name": "python3"
  },
  "language_info": {
   "codemirror_mode": {
    "name": "ipython",
    "version": 3
   },
   "file_extension": ".py",
   "mimetype": "text/x-python",
   "name": "python",
   "nbconvert_exporter": "python",
   "pygments_lexer": "ipython3",
   "version": "3.8.18"
  },
  "orig_nbformat": 4
 },
 "nbformat": 4,
 "nbformat_minor": 2
}
